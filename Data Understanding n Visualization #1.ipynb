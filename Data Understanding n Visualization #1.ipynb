{
 "cells": [
  {
   "cell_type": "markdown",
   "metadata": {},
   "source": [
    "## STRING"
   ]
  },
  {
   "cell_type": "code",
   "execution_count": 19,
   "metadata": {},
   "outputs": [
    {
     "name": "stdout",
     "output_type": "stream",
     "text": [
      "hello\n",
      "how are you\n",
      "hellohow are you\n",
      "hello how are you\n",
      "good morning\n",
      "have a good day\n",
      "enjoy your time\n"
     ]
    }
   ],
   "source": [
    "#STRING\n",
    "a = 'hello'\n",
    "b = \"how are you\"\n",
    "c = a + b\n",
    "d = a + ' ' + b\n",
    "e = '''good morning\n",
    "have a good day\n",
    "enjoy your time'''\n",
    "\n",
    "print(a)\n",
    "print(b)\n",
    "print(c)\n",
    "print(d)\n",
    "print(e)"
   ]
  },
  {
   "cell_type": "code",
   "execution_count": 5,
   "metadata": {},
   "outputs": [
    {
     "name": "stdout",
     "output_type": "stream",
     "text": [
      "e of \n",
      "\n",
      "19\n",
      "5\n"
     ]
    }
   ],
   "source": [
    "a = 'game of programming'\n",
    "print(a[3:8])\n",
    "print(a[-8:3])\n",
    "print(len(a))\n",
    "print(len(a[3:8]))"
   ]
  },
  {
   "cell_type": "code",
   "execution_count": 6,
   "metadata": {},
   "outputs": [
    {
     "name": "stdout",
     "output_type": "stream",
     "text": [
      "gm fp\n"
     ]
    }
   ],
   "source": [
    "print(a[0:10:2])"
   ]
  },
  {
   "cell_type": "code",
   "execution_count": 7,
   "metadata": {},
   "outputs": [
    {
     "name": "stdout",
     "output_type": "stream",
     "text": [
      "aksjdfhasdkfjhsadkfjh  asdkjfh\n"
     ]
    }
   ],
   "source": [
    "a = '             aksjdfhasdkfjhsadkfjh  asdkjfh        '\n",
    "b = a.strip()\n",
    "print(b)"
   ]
  },
  {
   "cell_type": "code",
   "execution_count": 8,
   "metadata": {},
   "outputs": [
    {
     "name": "stdout",
     "output_type": "stream",
     "text": [
      "kajhfasdkjfhjahdfkjhkjhkjhkjh\n",
      "KAJHFASDKJFHJAHDFKJHKJHKJHKJH\n"
     ]
    }
   ],
   "source": [
    "a = 'KAJHFASDKJFHjahdfKJHkjhkjhKJH'\n",
    "b = a.lower()\n",
    "c = a.upper()\n",
    "print(b)\n",
    "print(c)"
   ]
  },
  {
   "cell_type": "code",
   "execution_count": 9,
   "metadata": {},
   "outputs": [
    {
     "name": "stdout",
     "output_type": "stream",
     "text": [
      "zBD\n"
     ]
    }
   ],
   "source": [
    "a='ABD'\n",
    "b = a.replace('A','z')\n",
    "print(b)"
   ]
  },
  {
   "cell_type": "code",
   "execution_count": 10,
   "metadata": {},
   "outputs": [
    {
     "name": "stdout",
     "output_type": "stream",
     "text": [
      "Alkjh\n"
     ]
    }
   ],
   "source": [
    "a='alkjh'\n",
    "n=a.capitalize()\n",
    "print(n)"
   ]
  },
  {
   "cell_type": "code",
   "execution_count": 12,
   "metadata": {},
   "outputs": [
    {
     "data": {
      "text/plain": [
       "False"
      ]
     },
     "execution_count": 12,
     "metadata": {},
     "output_type": "execute_result"
    }
   ],
   "source": [
    "'abc' in 'alkdjsh,zmxnc'"
   ]
  },
  {
   "cell_type": "code",
   "execution_count": 13,
   "metadata": {},
   "outputs": [
    {
     "data": {
      "text/plain": [
       "True"
      ]
     },
     "execution_count": 13,
     "metadata": {},
     "output_type": "execute_result"
    }
   ],
   "source": [
    "'abc' in 'lkadjsabc'"
   ]
  },
  {
   "cell_type": "code",
   "execution_count": 14,
   "metadata": {},
   "outputs": [
    {
     "data": {
      "text/plain": [
       "True"
      ]
     },
     "execution_count": 14,
     "metadata": {},
     "output_type": "execute_result"
    }
   ],
   "source": [
    "'abc' < 'hij'"
   ]
  },
  {
   "cell_type": "code",
   "execution_count": 16,
   "metadata": {},
   "outputs": [
    {
     "name": "stdout",
     "output_type": "stream",
     "text": [
      "we are \t good boy\n"
     ]
    }
   ],
   "source": [
    "print('we are \\t good boy')"
   ]
  },
  {
   "cell_type": "code",
   "execution_count": 1,
   "metadata": {},
   "outputs": [
    {
     "name": "stdout",
     "output_type": "stream",
     "text": [
      "good \n",
      " boy\n"
     ]
    }
   ],
   "source": [
    "print('good \\n boy')"
   ]
  },
  {
   "cell_type": "code",
   "execution_count": 3,
   "metadata": {},
   "outputs": [
    {
     "data": {
      "text/plain": [
       "'pu stahw syug olleh'"
      ]
     },
     "execution_count": 3,
     "metadata": {},
     "output_type": "execute_result"
    }
   ],
   "source": [
    "#Quiz\n",
    "string = 'hello guys whats up'\n",
    "string1 = string[::-1]\n",
    "string1"
   ]
  },
  {
   "cell_type": "code",
   "execution_count": 5,
   "metadata": {},
   "outputs": [
    {
     "data": {
      "text/plain": [
       "'syug olleh'"
      ]
     },
     "execution_count": 5,
     "metadata": {},
     "output_type": "execute_result"
    }
   ],
   "source": [
    "#quiz 2\n",
    "string1[-10::]"
   ]
  },
  {
   "cell_type": "code",
   "execution_count": 6,
   "metadata": {},
   "outputs": [
    {
     "name": "stdout",
     "output_type": "stream",
     "text": [
      "life is not, short dont loose, ur time  life is not  short dont loose  ur time   \n"
     ]
    }
   ],
   "source": [
    "#Quiz 3\n",
    "string = ' life is not, short dont loose, ur time   '\n",
    "string1 = string.strip()\n",
    "string2 = string.replace(',',' ')\n",
    "print(string1,string2)"
   ]
  },
  {
   "cell_type": "code",
   "execution_count": null,
   "metadata": {},
   "outputs": [],
   "source": [
    "#Quiz 4 just watch video not that important\n"
   ]
  },
  {
   "cell_type": "markdown",
   "metadata": {},
   "source": [
    "## DATA STRUCTURE"
   ]
  },
  {
   "cell_type": "code",
   "execution_count": 1,
   "metadata": {},
   "outputs": [],
   "source": [
    "#list is ordered due to their position\n",
    "#tuple is ordered but unchangeable\n",
    "#set is unordered but addable n removable\n",
    "#dictionary is unordered changeable n no duplicate"
   ]
  },
  {
   "cell_type": "code",
   "execution_count": 2,
   "metadata": {},
   "outputs": [],
   "source": [
    "L = [1,3,4.9,'name',3] #list\n",
    "T = (1,3,4,6,'cool', 3) #tuple\n",
    "S = {1,3,4.9,'name',3} #set\n",
    "D = {23:'twhothree','b':43} #dictionary"
   ]
  },
  {
   "cell_type": "code",
   "execution_count": 3,
   "metadata": {},
   "outputs": [
    {
     "name": "stdout",
     "output_type": "stream",
     "text": [
      "<class 'list'>\n",
      "<class 'tuple'>\n",
      "<class 'set'>\n",
      "<class 'dict'>\n"
     ]
    }
   ],
   "source": [
    "print(type(L))\n",
    "print(type(T))\n",
    "print(type(S))\n",
    "print(type(D))"
   ]
  },
  {
   "cell_type": "code",
   "execution_count": 4,
   "metadata": {},
   "outputs": [
    {
     "data": {
      "text/plain": [
       "3"
      ]
     },
     "execution_count": 4,
     "metadata": {},
     "output_type": "execute_result"
    }
   ],
   "source": [
    "L[1]"
   ]
  },
  {
   "cell_type": "code",
   "execution_count": 5,
   "metadata": {},
   "outputs": [
    {
     "data": {
      "text/plain": [
       "4"
      ]
     },
     "execution_count": 5,
     "metadata": {},
     "output_type": "execute_result"
    }
   ],
   "source": [
    "T[2]"
   ]
  },
  {
   "cell_type": "code",
   "execution_count": 6,
   "metadata": {},
   "outputs": [
    {
     "data": {
      "text/plain": [
       "False"
      ]
     },
     "execution_count": 6,
     "metadata": {},
     "output_type": "execute_result"
    }
   ],
   "source": [
    "5 in S"
   ]
  },
  {
   "cell_type": "code",
   "execution_count": 9,
   "metadata": {},
   "outputs": [
    {
     "data": {
      "text/plain": [
       "43"
      ]
     },
     "execution_count": 9,
     "metadata": {},
     "output_type": "execute_result"
    }
   ],
   "source": [
    "D['b']"
   ]
  },
  {
   "cell_type": "code",
   "execution_count": 10,
   "metadata": {},
   "outputs": [
    {
     "data": {
      "text/plain": [
       "[3, 4.9]"
      ]
     },
     "execution_count": 10,
     "metadata": {},
     "output_type": "execute_result"
    }
   ],
   "source": [
    "L[1:3]"
   ]
  },
  {
   "cell_type": "code",
   "execution_count": 11,
   "metadata": {},
   "outputs": [
    {
     "data": {
      "text/plain": [
       "[3, 'name', 4.9, 3, 1]"
      ]
     },
     "execution_count": 11,
     "metadata": {},
     "output_type": "execute_result"
    }
   ],
   "source": [
    "L[::-1]"
   ]
  },
  {
   "cell_type": "code",
   "execution_count": 12,
   "metadata": {},
   "outputs": [
    {
     "data": {
      "text/plain": [
       "(1, 3, 4)"
      ]
     },
     "execution_count": 12,
     "metadata": {},
     "output_type": "execute_result"
    }
   ],
   "source": [
    "T[:3]"
   ]
  },
  {
   "cell_type": "code",
   "execution_count": 13,
   "metadata": {},
   "outputs": [],
   "source": [
    "#DELETING"
   ]
  },
  {
   "cell_type": "code",
   "execution_count": 14,
   "metadata": {},
   "outputs": [],
   "source": [
    "L = L + ['how', 'are']"
   ]
  },
  {
   "cell_type": "code",
   "execution_count": 15,
   "metadata": {},
   "outputs": [
    {
     "data": {
      "text/plain": [
       "[1, 3, 4.9, 'name', 3, 'how', 'are']"
      ]
     },
     "execution_count": 15,
     "metadata": {},
     "output_type": "execute_result"
    }
   ],
   "source": [
    "L"
   ]
  },
  {
   "cell_type": "code",
   "execution_count": 16,
   "metadata": {},
   "outputs": [],
   "source": [
    "L.append(6)"
   ]
  },
  {
   "cell_type": "code",
   "execution_count": 17,
   "metadata": {},
   "outputs": [
    {
     "data": {
      "text/plain": [
       "[1, 3, 4.9, 'name', 3, 'how', 'are', 6]"
      ]
     },
     "execution_count": 17,
     "metadata": {},
     "output_type": "execute_result"
    }
   ],
   "source": [
    "L"
   ]
  },
  {
   "cell_type": "code",
   "execution_count": 18,
   "metadata": {},
   "outputs": [],
   "source": [
    "del L[1]"
   ]
  },
  {
   "cell_type": "code",
   "execution_count": 19,
   "metadata": {},
   "outputs": [
    {
     "data": {
      "text/plain": [
       "[1, 4.9, 'name', 3, 'how', 'are', 6]"
      ]
     },
     "execution_count": 19,
     "metadata": {},
     "output_type": "execute_result"
    }
   ],
   "source": [
    "L"
   ]
  },
  {
   "cell_type": "code",
   "execution_count": 20,
   "metadata": {},
   "outputs": [
    {
     "data": {
      "text/plain": [
       "[1, 4.9]"
      ]
     },
     "execution_count": 20,
     "metadata": {},
     "output_type": "execute_result"
    }
   ],
   "source": [
    "L3 = L[0:2]\n",
    "L3"
   ]
  },
  {
   "cell_type": "markdown",
   "metadata": {},
   "source": [
    "## NUMPY"
   ]
  },
  {
   "cell_type": "code",
   "execution_count": 1,
   "metadata": {},
   "outputs": [
    {
     "name": "stdout",
     "output_type": "stream",
     "text": [
      "[1 2 3 4 5]\n"
     ]
    }
   ],
   "source": [
    "import numpy as np\n",
    "\n",
    "#dimensions a = np.array([1,2,3,4,5])\n",
    "\n",
    "print(a)"
   ]
  },
  {
   "cell_type": "code",
   "execution_count": 2,
   "metadata": {},
   "outputs": [
    {
     "data": {
      "text/plain": [
       "numpy.ndarray"
      ]
     },
     "execution_count": 2,
     "metadata": {},
     "output_type": "execute_result"
    }
   ],
   "source": [
    "type(a)"
   ]
  },
  {
   "cell_type": "code",
   "execution_count": 3,
   "metadata": {},
   "outputs": [
    {
     "name": "stdout",
     "output_type": "stream",
     "text": [
      "2\n"
     ]
    }
   ],
   "source": [
    "a = np.array([[1,2,3],[4,5,6]])\n",
    "print(a.ndim)"
   ]
  },
  {
   "cell_type": "code",
   "execution_count": 4,
   "metadata": {},
   "outputs": [
    {
     "name": "stdout",
     "output_type": "stream",
     "text": [
      "[[1 2 3]\n",
      " [4 5 6]]\n"
     ]
    }
   ],
   "source": [
    "print(a)"
   ]
  },
  {
   "cell_type": "code",
   "execution_count": 5,
   "metadata": {},
   "outputs": [
    {
     "name": "stdout",
     "output_type": "stream",
     "text": [
      "2\n"
     ]
    }
   ],
   "source": [
    "print(a.shape[0])"
   ]
  },
  {
   "cell_type": "code",
   "execution_count": 6,
   "metadata": {},
   "outputs": [
    {
     "data": {
      "text/plain": [
       "3"
      ]
     },
     "execution_count": 6,
     "metadata": {},
     "output_type": "execute_result"
    }
   ],
   "source": [
    "a[0,2]"
   ]
  },
  {
   "cell_type": "code",
   "execution_count": 7,
   "metadata": {},
   "outputs": [
    {
     "data": {
      "text/plain": [
       "6"
      ]
     },
     "execution_count": 7,
     "metadata": {},
     "output_type": "execute_result"
    }
   ],
   "source": [
    "a[1,2]"
   ]
  },
  {
   "cell_type": "code",
   "execution_count": 8,
   "metadata": {},
   "outputs": [],
   "source": [
    "#shape"
   ]
  },
  {
   "cell_type": "code",
   "execution_count": 9,
   "metadata": {},
   "outputs": [
    {
     "data": {
      "text/plain": [
       "(2, 3)"
      ]
     },
     "execution_count": 9,
     "metadata": {},
     "output_type": "execute_result"
    }
   ],
   "source": [
    "a.shape"
   ]
  },
  {
   "cell_type": "code",
   "execution_count": 10,
   "metadata": {},
   "outputs": [
    {
     "data": {
      "text/plain": [
       "24"
      ]
     },
     "execution_count": 10,
     "metadata": {},
     "output_type": "execute_result"
    }
   ],
   "source": [
    "a.nbytes"
   ]
  },
  {
   "cell_type": "code",
   "execution_count": 11,
   "metadata": {},
   "outputs": [
    {
     "data": {
      "text/plain": [
       "<function numpy.reshape(a, newshape, order='C')>"
      ]
     },
     "execution_count": 11,
     "metadata": {},
     "output_type": "execute_result"
    }
   ],
   "source": [
    "#function\n",
    "np.arange\n",
    "np.zeros\n",
    "np.random.permutation\n",
    "np.reshape"
   ]
  },
  {
   "cell_type": "code",
   "execution_count": 12,
   "metadata": {},
   "outputs": [
    {
     "data": {
      "text/plain": [
       "array([0, 1, 2, 3, 4, 5, 6, 7, 8, 9])"
      ]
     },
     "execution_count": 12,
     "metadata": {},
     "output_type": "execute_result"
    }
   ],
   "source": [
    "a = np.arange(10)\n",
    "a"
   ]
  },
  {
   "cell_type": "code",
   "execution_count": 13,
   "metadata": {},
   "outputs": [
    {
     "data": {
      "text/plain": [
       "array([2, 3, 4, 5, 6, 7, 8, 9])"
      ]
     },
     "execution_count": 13,
     "metadata": {},
     "output_type": "execute_result"
    }
   ],
   "source": [
    "a = np.arange(2,10)\n",
    "a"
   ]
  },
  {
   "cell_type": "code",
   "execution_count": 15,
   "metadata": {},
   "outputs": [
    {
     "data": {
      "text/plain": [
       "array([2, 4, 6, 8])"
      ]
     },
     "execution_count": 15,
     "metadata": {},
     "output_type": "execute_result"
    }
   ],
   "source": [
    "a = np.arange(2,10,2)\n",
    "a"
   ]
  },
  {
   "cell_type": "code",
   "execution_count": 16,
   "metadata": {},
   "outputs": [],
   "source": [
    "b = np.random.permutation(np.arange(10))"
   ]
  },
  {
   "cell_type": "code",
   "execution_count": 17,
   "metadata": {},
   "outputs": [
    {
     "data": {
      "text/plain": [
       "array([6, 2, 7, 1, 9, 0, 3, 5, 8, 4])"
      ]
     },
     "execution_count": 17,
     "metadata": {},
     "output_type": "execute_result"
    }
   ],
   "source": [
    "b"
   ]
  },
  {
   "cell_type": "code",
   "execution_count": 19,
   "metadata": {},
   "outputs": [
    {
     "data": {
      "text/plain": [
       "28"
      ]
     },
     "execution_count": 19,
     "metadata": {},
     "output_type": "execute_result"
    }
   ],
   "source": [
    "np.random.randint(20,40)"
   ]
  },
  {
   "cell_type": "code",
   "execution_count": 20,
   "metadata": {},
   "outputs": [
    {
     "data": {
      "text/plain": [
       "array([4.28259730e-01, 2.57966102e-01, 5.48374960e-01, 8.59442361e-01,\n",
       "       3.45282507e-01, 5.08271943e-01, 4.83922493e-01, 3.73612236e-01,\n",
       "       2.33750360e-01, 3.13823038e-01, 2.54487584e-01, 3.82569498e-01,\n",
       "       2.68977564e-01, 6.50166428e-01, 5.98564927e-01, 3.48608779e-01,\n",
       "       7.61356992e-02, 2.53376264e-02, 9.97655458e-02, 5.42779367e-01,\n",
       "       9.62791846e-01, 8.94188331e-01, 9.18252407e-01, 3.47778389e-02,\n",
       "       9.25730955e-01, 3.83109205e-01, 3.85791898e-02, 5.96433906e-01,\n",
       "       4.69479917e-02, 5.77235888e-01, 1.19146747e-01, 3.75153200e-01,\n",
       "       4.56498417e-01, 4.96254534e-01, 4.71078757e-01, 7.23950735e-01,\n",
       "       2.60509607e-01, 3.50078540e-01, 8.81545328e-01, 5.83431972e-01,\n",
       "       4.96426517e-01, 7.31721560e-01, 2.30758094e-01, 2.34613157e-02,\n",
       "       2.34430016e-01, 3.02937863e-01, 6.05917318e-01, 3.01135420e-01,\n",
       "       4.62945030e-01, 6.33078059e-01, 7.69167019e-01, 3.20158769e-01,\n",
       "       6.59176871e-01, 7.48536464e-01, 5.60716260e-01, 7.46158020e-01,\n",
       "       5.56284311e-01, 5.82885380e-01, 7.23537156e-01, 9.03649355e-01,\n",
       "       2.81708353e-01, 6.01259074e-01, 9.82076574e-01, 1.83930522e-01,\n",
       "       1.13569597e-01, 8.12447494e-01, 9.13417467e-01, 6.24163283e-01,\n",
       "       4.82975832e-01, 3.55958980e-01, 3.56707511e-01, 5.88340725e-02,\n",
       "       1.28286508e-01, 3.63042770e-01, 8.59813712e-01, 5.98654636e-01,\n",
       "       7.36206041e-01, 5.19153529e-01, 8.56918713e-01, 6.93224026e-01,\n",
       "       6.97256908e-01, 6.88733153e-01, 5.70015981e-01, 8.57775721e-01,\n",
       "       8.68612026e-01, 8.49959693e-03, 9.71828413e-01, 5.84881239e-01,\n",
       "       7.47319064e-01, 4.03714180e-01, 8.70758022e-01, 4.34369353e-01,\n",
       "       2.95160405e-01, 7.67340323e-01, 3.41740252e-01, 7.35670490e-01,\n",
       "       9.94652288e-01, 3.47080706e-01, 7.13685097e-01, 3.38255706e-01,\n",
       "       3.10768143e-01, 5.85486265e-01, 4.86918013e-01, 7.33900067e-01,\n",
       "       1.93402739e-01, 9.33532299e-01, 6.53184487e-01, 2.49791748e-01,\n",
       "       3.85292347e-01, 2.12591631e-01, 8.16731560e-01, 1.97997664e-01,\n",
       "       6.52630899e-01, 1.77437170e-01, 2.77396462e-01, 3.34282631e-01,\n",
       "       3.66489978e-01, 2.61129271e-01, 6.80633621e-01, 6.05433708e-01,\n",
       "       2.25332310e-01, 3.34413220e-01, 8.85659648e-03, 4.43962514e-01,\n",
       "       1.12818742e-01, 9.84826286e-01, 8.15073669e-01, 1.70605989e-01,\n",
       "       6.84167450e-01, 9.68568056e-01, 2.30552124e-01, 7.79017842e-01,\n",
       "       1.82231962e-01, 3.45822303e-01, 9.35700901e-01, 9.17727984e-01,\n",
       "       2.79746058e-01, 1.06658212e-01, 5.71693402e-02, 4.99065330e-01,\n",
       "       9.11831816e-01, 4.03723036e-01, 6.00493188e-01, 9.72162066e-02,\n",
       "       1.54946579e-01, 1.43377248e-01, 7.62605680e-01, 3.73323425e-01,\n",
       "       7.93963104e-04, 6.53687156e-01, 8.08362764e-01, 2.26768285e-01,\n",
       "       5.53324241e-01, 1.89012870e-01, 3.95547912e-01, 3.52749355e-01,\n",
       "       3.15372695e-01, 8.27961958e-01, 7.18504876e-01, 1.84382978e-01,\n",
       "       1.17230006e-01, 7.41740119e-01, 7.24558653e-01, 1.46188034e-01,\n",
       "       6.42521161e-01, 8.09370980e-02, 8.40851468e-01, 6.99320837e-01,\n",
       "       4.89945612e-01, 2.96978995e-01, 8.13444174e-01, 2.11074092e-01,\n",
       "       6.01270242e-01, 6.08255623e-01, 7.66536583e-01, 5.21242474e-01,\n",
       "       5.95952599e-01, 2.18438254e-01, 8.22404708e-01, 2.93418243e-01,\n",
       "       2.69625142e-01, 1.59271234e-01, 4.47840566e-01, 1.02364180e-01,\n",
       "       4.64911974e-01, 4.97872423e-01, 3.64801778e-01, 4.08905482e-01,\n",
       "       3.14012286e-01, 1.80604860e-01, 7.96195362e-01, 5.08914375e-01,\n",
       "       6.10055665e-01, 1.43422118e-01, 1.35511947e-01, 3.36968422e-01,\n",
       "       4.95462424e-01, 7.37241856e-01, 8.40083661e-01, 9.52783591e-01,\n",
       "       5.86348282e-01, 7.30842943e-01, 1.37641187e-01, 8.37901777e-01,\n",
       "       7.19731960e-01, 5.08227665e-02, 9.60029058e-01, 9.43642395e-01,\n",
       "       3.19959572e-01, 2.51337359e-01, 6.86504121e-02, 6.34034227e-01,\n",
       "       4.51006255e-01, 9.45055150e-01, 3.84427099e-02, 4.49911775e-01,\n",
       "       7.55007177e-01, 2.62386723e-01, 3.15350077e-01, 3.84599437e-01,\n",
       "       3.95687961e-01, 4.07515786e-01, 9.65267179e-01, 4.33495475e-01,\n",
       "       6.01502680e-01, 8.38709522e-01, 3.29476442e-01, 4.82045718e-01,\n",
       "       8.03177038e-01, 5.38659127e-01, 3.79459727e-01, 8.31976563e-01,\n",
       "       3.41264290e-01, 6.18714378e-01, 8.11503200e-01, 8.89816536e-01,\n",
       "       3.93270217e-01, 1.19371856e-01, 3.86295780e-01, 9.11129985e-01,\n",
       "       2.64734255e-01, 3.58128142e-01, 3.75462562e-01, 4.00478184e-01,\n",
       "       1.81231400e-01, 5.38783798e-01, 9.79640717e-01, 3.38880251e-01,\n",
       "       5.72046787e-01, 2.52838195e-01, 1.64997016e-01, 3.37751988e-01,\n",
       "       3.23877220e-01, 7.91881530e-01, 7.78280431e-01, 1.37540984e-03,\n",
       "       3.82112212e-01, 9.85309685e-01, 2.35389280e-01, 6.37259754e-01,\n",
       "       4.81037040e-01, 6.51200805e-01, 9.20675933e-01, 1.53016395e-01,\n",
       "       7.62658651e-01, 5.65015233e-01, 3.92050157e-01, 8.01776429e-01,\n",
       "       5.60113553e-01, 6.16818059e-01, 7.81576074e-01, 5.80083138e-01,\n",
       "       5.52474113e-01, 1.36294390e-01, 6.02481717e-01, 5.75441277e-01,\n",
       "       7.86115048e-01, 6.64177776e-01, 3.01781585e-01, 5.92010396e-01,\n",
       "       1.51596922e-01, 8.04661814e-01, 6.38167171e-01, 6.81896147e-01,\n",
       "       2.93316358e-01, 9.35707189e-01, 3.13518395e-02, 2.45736247e-01,\n",
       "       7.23696953e-01, 7.61083495e-01, 1.88760707e-01, 2.60303315e-01,\n",
       "       3.84600811e-01, 9.14279704e-01, 5.11026411e-01, 1.16193328e-02,\n",
       "       9.13531283e-01, 4.71513071e-01, 4.11779987e-01, 9.74955887e-01,\n",
       "       2.13050507e-02, 7.31054107e-01, 9.04801589e-01, 7.83271695e-01,\n",
       "       6.90676180e-01, 6.08805030e-01, 3.39609771e-02, 7.62481285e-01,\n",
       "       2.67441165e-01, 2.82401885e-01, 6.17114373e-01, 6.49578825e-01,\n",
       "       5.43278734e-03, 1.71961791e-01, 4.18068518e-01, 2.21002866e-01,\n",
       "       5.55312685e-01, 7.87970682e-01, 7.42530456e-01, 6.85913384e-01,\n",
       "       1.04591056e-02, 4.78005567e-02, 4.57614970e-01, 3.72763711e-01,\n",
       "       7.63171534e-01, 2.20303572e-01, 1.83959972e-01, 8.04576163e-01,\n",
       "       3.22867841e-01, 9.70861919e-01, 9.67648670e-02, 8.94486463e-01,\n",
       "       7.16612326e-01, 1.85361724e-01, 6.59082792e-01, 6.10755724e-02,\n",
       "       9.65869399e-01, 7.02944063e-01, 9.53418972e-01, 7.85719474e-01,\n",
       "       7.31877333e-01, 1.35155320e-02, 8.28843046e-01, 3.17913703e-02,\n",
       "       6.74539068e-02, 7.98156026e-02, 4.99906294e-01, 8.10615395e-01,\n",
       "       1.03437637e-01, 1.22933719e-01, 2.22612463e-01, 9.94836719e-02,\n",
       "       4.97232702e-01, 3.55157041e-01, 4.56273313e-01, 6.53209342e-01,\n",
       "       9.91496842e-01, 3.44117386e-01, 5.84388484e-01, 8.82346598e-01,\n",
       "       9.74050657e-01, 9.03716438e-01, 4.35015451e-01, 4.60400882e-02,\n",
       "       7.11121632e-02, 5.78419193e-01, 6.79894754e-01, 6.30902593e-01,\n",
       "       1.59021956e-01, 5.04799423e-01, 9.28044911e-01, 1.64853548e-01,\n",
       "       9.45133534e-01, 7.68222673e-01, 9.65660970e-01, 4.02982068e-01,\n",
       "       2.90010270e-01, 6.19195492e-01, 7.55555894e-01, 1.58596172e-01,\n",
       "       6.94729351e-01, 8.30478053e-02, 2.81871778e-01, 6.55684288e-01,\n",
       "       4.23232740e-01, 9.64631963e-01, 3.87223341e-01, 3.91827489e-01,\n",
       "       1.53807271e-01, 8.87279893e-01, 8.55477437e-01, 8.69462751e-01,\n",
       "       9.71552161e-02, 6.23149538e-01, 7.20166826e-01, 4.97205660e-01,\n",
       "       4.10465751e-01, 7.22174216e-01, 6.31982952e-01, 7.41039152e-01,\n",
       "       5.84007655e-01, 6.30272031e-01, 9.17728075e-01, 5.61483056e-02,\n",
       "       2.30187117e-01, 7.61618550e-01, 4.88237945e-01, 5.91451299e-01,\n",
       "       4.35267961e-01, 9.11489767e-02, 5.11327228e-01, 1.37760010e-01,\n",
       "       5.98475623e-01, 6.73738984e-01, 2.63233890e-01, 2.41748052e-01,\n",
       "       6.20094671e-01, 9.79316301e-01, 7.17674550e-01, 9.24935305e-01,\n",
       "       6.53712176e-01, 4.87000558e-01, 6.98162897e-01, 8.12244014e-01,\n",
       "       6.34017635e-01, 7.91767301e-01, 5.39669284e-01, 3.11344194e-01,\n",
       "       3.66801437e-01, 7.30519694e-01, 6.42874399e-01, 4.77576607e-01,\n",
       "       8.31396849e-01, 7.68538371e-01, 4.36365980e-01, 2.16565041e-01,\n",
       "       3.22837830e-01, 1.31863527e-02, 2.05053544e-01, 2.14128483e-01,\n",
       "       1.96911709e-01, 7.15498544e-01, 8.96995264e-01, 8.78464553e-01,\n",
       "       3.87294348e-01, 6.10375878e-01, 2.52741180e-02, 5.35529227e-01,\n",
       "       7.68041549e-01, 6.48420395e-01, 9.00065280e-01, 3.40216020e-01,\n",
       "       3.34620246e-01, 6.84600574e-01, 4.30796023e-01, 8.58137632e-01,\n",
       "       7.20197589e-01, 3.62280005e-02, 8.14499439e-01, 8.70920296e-01,\n",
       "       8.98137069e-01, 2.87292354e-01, 2.35290433e-01, 5.75570063e-01,\n",
       "       6.52305727e-01, 8.06319739e-01, 7.27408535e-01, 9.53398424e-02,\n",
       "       6.05646704e-02, 2.58050053e-01, 8.94225258e-01, 6.42561494e-01,\n",
       "       8.08974462e-01, 3.22312458e-01, 4.04248955e-01, 7.23200870e-01,\n",
       "       7.22647538e-01, 9.44974255e-01, 4.61548852e-01, 8.08235703e-02,\n",
       "       9.69874168e-01, 4.25606424e-02, 5.30170630e-02, 1.60070344e-01,\n",
       "       2.22953327e-01, 4.95127958e-01, 3.22236176e-01, 9.73972477e-01,\n",
       "       7.44251695e-01, 3.00065291e-01, 8.90914238e-01, 1.13885455e-01,\n",
       "       6.33423178e-01, 3.95040555e-02, 7.60736293e-01, 1.79214006e-01,\n",
       "       5.61435888e-02, 5.72147872e-01, 3.26102795e-01, 1.84764898e-01,\n",
       "       7.99720208e-01, 7.00741571e-02, 9.90168887e-01, 6.71496251e-01,\n",
       "       2.90935522e-01, 6.94841116e-01, 1.78780434e-01, 5.53195199e-01,\n",
       "       2.19670858e-01, 2.25067199e-01, 2.24273520e-01, 5.80222562e-01,\n",
       "       2.82583689e-01, 8.90522813e-01, 6.99996264e-01, 7.90666328e-01,\n",
       "       4.00587708e-01, 4.48892593e-01, 2.97898444e-01, 6.69473700e-01,\n",
       "       9.44340587e-01, 5.31548014e-01, 9.05346056e-01, 7.35612190e-01,\n",
       "       4.76562517e-01, 5.75344148e-03, 5.00429937e-01, 3.45612035e-01,\n",
       "       4.18680241e-01, 1.72405682e-01, 3.86256373e-02, 7.28022112e-01,\n",
       "       2.06676547e-01, 7.97536849e-01, 3.90156262e-01, 7.00995333e-02,\n",
       "       7.74376226e-01, 9.02448270e-01, 6.92117915e-01, 1.79736935e-01,\n",
       "       6.51391128e-01, 2.21310227e-01, 7.70982736e-01, 7.60392429e-01,\n",
       "       9.42524189e-01, 7.53695129e-01, 2.67459838e-01, 6.51562272e-01,\n",
       "       5.72746741e-01, 7.30909094e-01, 1.37494197e-01, 8.81579117e-01,\n",
       "       2.82705372e-01, 1.93038394e-01, 2.74315595e-01, 1.70513059e-01,\n",
       "       3.49685361e-01, 8.99692341e-01, 1.13880602e-01, 7.83605325e-01,\n",
       "       3.68602755e-01, 5.05699416e-01, 8.77352978e-01, 5.66316288e-01,\n",
       "       5.10302767e-01, 2.89421821e-01, 5.83404226e-01, 1.13708571e-01,\n",
       "       9.30637422e-02, 3.07233312e-01, 4.00365613e-01, 6.71394712e-01,\n",
       "       2.68508092e-02, 8.83773413e-01, 4.57054734e-01, 2.88954761e-01,\n",
       "       9.97370160e-01, 7.94586762e-02, 7.83527573e-01, 6.36678814e-01,\n",
       "       2.83195457e-01, 4.05384018e-01, 1.73877728e-01, 4.24118407e-01,\n",
       "       6.61608329e-01, 4.16571320e-01, 2.34262741e-01, 2.56340093e-01,\n",
       "       2.35063776e-01, 2.61356691e-01, 1.65208989e-01, 1.04921038e-01,\n",
       "       8.02786149e-01, 4.35115049e-01, 9.82426909e-01, 8.87425123e-02,\n",
       "       9.92724770e-01, 4.45642313e-04, 7.39170164e-02, 7.34186935e-01,\n",
       "       3.36021270e-01, 5.02603571e-01, 6.77637278e-01, 5.67541877e-01,\n",
       "       6.05539639e-01, 8.05257324e-01, 3.64024726e-01, 3.83313455e-02,\n",
       "       4.73396612e-01, 8.02925255e-01, 6.70033769e-01, 6.56618706e-01,\n",
       "       4.81281529e-01, 3.16958325e-01, 5.46496054e-03, 5.13952050e-01,\n",
       "       4.81583987e-01, 6.76287207e-01, 2.34572923e-02, 2.54722182e-01,\n",
       "       6.76052458e-01, 4.28273913e-01, 6.94853448e-01, 3.82363030e-02,\n",
       "       9.37129245e-01, 5.68460685e-01, 1.46083963e-01, 3.08144440e-03,\n",
       "       5.62858488e-02, 1.31641603e-01, 4.92983368e-01, 5.95148580e-01,\n",
       "       7.32518619e-01, 1.37883735e-02, 1.26845790e-01, 5.76522414e-01,\n",
       "       6.23931784e-01, 8.83983453e-01, 8.80468295e-01, 2.53931119e-01,\n",
       "       3.85978230e-01, 5.63517788e-01, 8.47905573e-02, 1.76384211e-01,\n",
       "       5.50400068e-01, 3.72414365e-01, 9.63694044e-02, 4.85255653e-01,\n",
       "       7.00403441e-01, 8.60988820e-01, 9.63135245e-01, 4.51746531e-01,\n",
       "       6.40829753e-01, 5.91565039e-01, 1.79417164e-01, 2.64724087e-01,\n",
       "       4.57620927e-02, 1.49416361e-01, 9.47771553e-01, 8.63137480e-02,\n",
       "       7.31675468e-01, 3.43194215e-01, 5.99351746e-01, 6.82236213e-01,\n",
       "       1.39195026e-02, 6.92051956e-03, 4.71704570e-01, 5.89158368e-01,\n",
       "       2.77367328e-01, 3.17445722e-01, 1.55978700e-01, 9.33681223e-01,\n",
       "       9.44886265e-01, 6.52629345e-02, 1.30110845e-01, 2.21602833e-02,\n",
       "       6.21947932e-01, 5.57513196e-01, 6.24433424e-01, 4.65360532e-01,\n",
       "       3.30332436e-01, 7.39051574e-01, 7.30458212e-01, 8.13171530e-01,\n",
       "       8.61535073e-01, 1.10594726e-01, 1.92204592e-01, 3.98465835e-01,\n",
       "       7.34881378e-01, 1.62679206e-01, 6.71628260e-01, 9.79406229e-02,\n",
       "       7.37338099e-01, 4.69194044e-01, 8.15347891e-01, 2.59463189e-01,\n",
       "       4.66912230e-01, 9.56738494e-01, 5.65280637e-01, 9.68628547e-01,\n",
       "       8.04126509e-01, 9.28276006e-01, 5.39354646e-01, 9.43126293e-01,\n",
       "       4.45131208e-01, 5.68959334e-02, 3.13343693e-01, 7.31032548e-01,\n",
       "       2.42230664e-01, 7.96449140e-01, 3.75196714e-02, 1.83627264e-01,\n",
       "       5.30909183e-01, 4.82530837e-01, 5.77410002e-01, 8.83277000e-01,\n",
       "       2.60097033e-02, 7.65604653e-01, 8.05466883e-01, 7.66039976e-01,\n",
       "       2.27789429e-01, 4.39955024e-01, 1.73493509e-01, 8.58321260e-01,\n",
       "       7.23709399e-01, 6.22799842e-02, 3.61167603e-01, 7.25244468e-01,\n",
       "       6.72190149e-01, 1.06525645e-01, 7.26538367e-01, 2.12291308e-01,\n",
       "       4.56793884e-01, 9.88001793e-01, 1.70996373e-01, 7.59584119e-01,\n",
       "       3.66251813e-01, 9.44211255e-01, 8.27252938e-02, 1.79015259e-01,\n",
       "       6.04054870e-01, 1.60076888e-01, 4.02731673e-02, 1.88928929e-01,\n",
       "       2.99695106e-01, 8.90070776e-01, 3.57752002e-01, 6.86831453e-01,\n",
       "       7.45127670e-01, 8.54979598e-01, 7.25760720e-01, 9.47984257e-01,\n",
       "       9.39181678e-01, 8.11832139e-01, 9.99864315e-01, 5.40981246e-01,\n",
       "       4.19038945e-01, 7.33869561e-01, 1.28345708e-01, 3.32265224e-01,\n",
       "       1.51349553e-01, 8.88889326e-01, 7.88959636e-01, 7.10691907e-01,\n",
       "       2.29212164e-01, 8.03040417e-01, 3.94495312e-01, 4.62804385e-01,\n",
       "       8.83993706e-01, 3.93030512e-01, 2.75368257e-02, 2.88524314e-01,\n",
       "       5.91322732e-01, 4.07749931e-01, 4.65606114e-01, 4.99073637e-01,\n",
       "       6.16284218e-01, 1.42321813e-01, 8.51446055e-01, 4.49869267e-01,\n",
       "       9.81750829e-01, 1.38740296e-01, 6.27681531e-01, 1.33237338e-01,\n",
       "       9.56140247e-01, 8.80372920e-03, 7.12733536e-01, 8.21692933e-01,\n",
       "       4.49092140e-01, 2.00029082e-01, 4.61975675e-01, 1.66642498e-01,\n",
       "       6.34795391e-02, 3.68330398e-01, 3.54215771e-01, 6.82178526e-02,\n",
       "       2.57665782e-01, 2.11326432e-01, 9.25900239e-01, 2.19477479e-01,\n",
       "       2.35365457e-02, 4.65470652e-01, 7.31430131e-01, 4.38202218e-01,\n",
       "       1.69770711e-01, 3.70258692e-01, 4.87006724e-01, 7.31950180e-01,\n",
       "       3.19166164e-01, 9.12840204e-02, 2.71814184e-01, 9.14731031e-02,\n",
       "       4.92344250e-02, 9.98711986e-02, 3.88039095e-03, 4.74618046e-01,\n",
       "       6.90214797e-01, 3.90190561e-01, 2.99629131e-01, 7.65675137e-01,\n",
       "       9.53749783e-01, 5.38631231e-01, 7.89921070e-01, 2.00675577e-01,\n",
       "       2.87518974e-01, 3.01829506e-01, 1.39334899e-01, 2.75828429e-01,\n",
       "       1.91569772e-01, 1.81362433e-01, 7.04563527e-01, 3.10737264e-01,\n",
       "       2.93647910e-01, 8.90225548e-01, 6.79426625e-01, 9.61748821e-01,\n",
       "       7.97287378e-01, 9.38836445e-01, 3.26616088e-01, 4.86607488e-01,\n",
       "       6.26454674e-02, 3.03014256e-01, 8.70098455e-01, 8.31665280e-01,\n",
       "       5.91339696e-01, 2.85227270e-01, 5.29937498e-01, 4.53279925e-01,\n",
       "       8.15198890e-01, 3.54944721e-01, 8.97667789e-03, 5.77394635e-01,\n",
       "       9.50234814e-01, 3.55668937e-01, 9.48388776e-01, 6.22799726e-01,\n",
       "       3.73154812e-01, 6.96887940e-01, 7.95566328e-01, 5.52129594e-01,\n",
       "       7.63379406e-01, 9.54766565e-01, 4.61661922e-01, 7.12125178e-01,\n",
       "       3.50986860e-01, 9.48126255e-04, 1.62270162e-01, 1.13387032e-01,\n",
       "       9.79969952e-01, 9.50776361e-01, 9.04633725e-01, 3.03947494e-01,\n",
       "       5.89888465e-01, 9.41602661e-01, 3.17883425e-01, 2.19020176e-01,\n",
       "       9.41855527e-01, 9.20537416e-01, 4.92591247e-01, 6.75367677e-01,\n",
       "       9.45057325e-01, 4.48307194e-01, 8.29521684e-01, 4.71342000e-01,\n",
       "       1.73888427e-01, 2.27288136e-01, 7.11967725e-01, 3.02355349e-02,\n",
       "       8.94440978e-01, 2.31321868e-01, 1.20279855e-01, 1.29723054e-01,\n",
       "       1.33040993e-01, 7.73251954e-01, 1.62619301e-01, 9.20804651e-01,\n",
       "       5.50960459e-01, 3.26635258e-02, 2.72748929e-01, 3.38402712e-01,\n",
       "       2.40690668e-01, 7.10107987e-02, 3.66476550e-01, 1.72016300e-01,\n",
       "       4.69194240e-01, 4.97586905e-01, 7.08905978e-01, 4.99694972e-01,\n",
       "       4.73330191e-01, 7.65791178e-01, 3.29022616e-01, 7.49295011e-01,\n",
       "       4.76722082e-01, 4.61954521e-01, 8.65199090e-01, 8.06933979e-01,\n",
       "       3.80066276e-01, 5.75522318e-01, 3.33597330e-01, 1.81176638e-02,\n",
       "       2.37801708e-01, 5.17772562e-01, 1.53755995e-01, 1.16966341e-01,\n",
       "       2.51830437e-01, 8.47414074e-01, 4.57006603e-01, 3.97008520e-02,\n",
       "       6.00166557e-01, 5.27955518e-01, 7.93682366e-01, 4.94653241e-01,\n",
       "       7.43934644e-01, 9.10213110e-01, 4.07000768e-01, 6.33150587e-01,\n",
       "       7.50671048e-01, 7.02586248e-01, 5.55045286e-01, 2.47932276e-01,\n",
       "       3.78782541e-01, 9.94444582e-01, 1.77997872e-01, 7.86589779e-01,\n",
       "       2.25588352e-01, 1.78847356e-01, 3.86169365e-02, 5.45803718e-01,\n",
       "       8.28448268e-01, 2.58465168e-01, 8.40474186e-01, 8.64139425e-02,\n",
       "       2.52731870e-01, 9.70687542e-01, 9.50761105e-02, 8.52204040e-01,\n",
       "       3.94961168e-02, 6.71536981e-01, 5.75156553e-01, 3.74793376e-01,\n",
       "       1.15512990e-01, 8.51964732e-01, 5.68311878e-01, 1.70245797e-01,\n",
       "       4.31690263e-01, 9.95476179e-02, 2.80314259e-01, 2.91557793e-01,\n",
       "       6.55975849e-01, 2.32401974e-01, 2.97094783e-01, 2.67695181e-01,\n",
       "       3.80187982e-01, 2.27755302e-01, 6.53333544e-01, 8.96047112e-01,\n",
       "       1.76135048e-01, 1.66982132e-01, 9.15247684e-01, 5.27147291e-01,\n",
       "       7.41495818e-01, 2.42491310e-01, 6.22775223e-01, 1.46197449e-01,\n",
       "       5.13947709e-01, 1.63353747e-01, 8.29218919e-01, 8.21047454e-01,\n",
       "       7.57629786e-02, 5.22311212e-01, 9.09794666e-01, 4.58706873e-01,\n",
       "       5.54193551e-01, 7.42631697e-01, 6.19958186e-01, 5.59141385e-01,\n",
       "       7.96899206e-01, 3.86583296e-01, 9.10213135e-01, 8.88213308e-01])"
      ]
     },
     "execution_count": 20,
     "metadata": {},
     "output_type": "execute_result"
    }
   ],
   "source": [
    "a = np.random.rand(1000)\n",
    "a"
   ]
  },
  {
   "cell_type": "code",
   "execution_count": 21,
   "metadata": {},
   "outputs": [
    {
     "data": {
      "text/plain": [
       "(array([104., 103., 105., 108., 102.,  88.,  98., 114.,  88.,  90.]),\n",
       " array([4.45642313e-04, 1.00387510e-01, 2.00329377e-01, 3.00271244e-01,\n",
       "        4.00213111e-01, 5.00154979e-01, 6.00096846e-01, 7.00038713e-01,\n",
       "        7.99980581e-01, 8.99922448e-01, 9.99864315e-01]),\n",
       " <a list of 10 Patch objects>)"
      ]
     },
     "execution_count": 21,
     "metadata": {},
     "output_type": "execute_result"
    },
    {
     "data": {
      "image/png": "[encoded data removed]",
      "text/plain": [
       "<Figure size 432x288 with 1 Axes>"
      ]
     },
     "metadata": {
      "needs_background": "light"
     },
     "output_type": "display_data"
    }
   ],
   "source": [
    "import matplotlib.pyplot as plt\n",
    "plt.hist(a)"
   ]
  },
  {
   "cell_type": "code",
   "execution_count": 22,
   "metadata": {},
   "outputs": [
    {
     "data": {
      "text/plain": [
       "4"
      ]
     },
     "execution_count": 22,
     "metadata": {},
     "output_type": "execute_result"
    }
   ],
   "source": [
    "b = np.random.rand(2,3,4,2)\n",
    "b.ndim"
   ]
  },
  {
   "cell_type": "code",
   "execution_count": 23,
   "metadata": {},
   "outputs": [
    {
     "data": {
      "text/plain": [
       "array([[ 0,  1,  2,  3,  4,  5,  6,  7,  8,  9, 10, 11, 12, 13, 14, 15,\n",
       "        16, 17, 18, 19, 20, 21, 22, 23, 24],\n",
       "       [25, 26, 27, 28, 29, 30, 31, 32, 33, 34, 35, 36, 37, 38, 39, 40,\n",
       "        41, 42, 43, 44, 45, 46, 47, 48, 49],\n",
       "       [50, 51, 52, 53, 54, 55, 56, 57, 58, 59, 60, 61, 62, 63, 64, 65,\n",
       "        66, 67, 68, 69, 70, 71, 72, 73, 74],\n",
       "       [75, 76, 77, 78, 79, 80, 81, 82, 83, 84, 85, 86, 87, 88, 89, 90,\n",
       "        91, 92, 93, 94, 95, 96, 97, 98, 99]])"
      ]
     },
     "execution_count": 23,
     "metadata": {},
     "output_type": "execute_result"
    }
   ],
   "source": [
    "d = np.arange(100).reshape(4,25)\n",
    "d\n"
   ]
  },
  {
   "cell_type": "code",
   "execution_count": 24,
   "metadata": {},
   "outputs": [
    {
     "data": {
      "text/plain": [
       "(4, 25)"
      ]
     },
     "execution_count": 24,
     "metadata": {},
     "output_type": "execute_result"
    }
   ],
   "source": [
    "d.shape"
   ]
  },
  {
   "cell_type": "code",
   "execution_count": null,
   "metadata": {},
   "outputs": [],
   "source": [
    "#slicing combined"
   ]
  },
  {
   "cell_type": "code",
   "execution_count": 25,
   "metadata": {},
   "outputs": [
    {
     "name": "stdout",
     "output_type": "stream",
     "text": [
      "[3 4 5 6 7 8 9]\n"
     ]
    }
   ],
   "source": [
    "a = np.arange(100)\n",
    "b = a[3:10]\n",
    "print(b)"
   ]
  },
  {
   "cell_type": "code",
   "execution_count": 26,
   "metadata": {},
   "outputs": [
    {
     "data": {
      "text/plain": [
       "array([1000,    4,    5,    6,    7,    8,    9])"
      ]
     },
     "execution_count": 26,
     "metadata": {},
     "output_type": "execute_result"
    }
   ],
   "source": [
    "b[0]=1000\n",
    "b"
   ]
  },
  {
   "cell_type": "code",
   "execution_count": 27,
   "metadata": {},
   "outputs": [
    {
     "data": {
      "text/plain": [
       "array([   0,    1,    2, 1000,    4,    5,    6,    7,    8,    9,   10,\n",
       "         11,   12,   13,   14,   15,   16,   17,   18,   19,   20,   21,\n",
       "         22,   23,   24,   25,   26,   27,   28,   29,   30,   31,   32,\n",
       "         33,   34,   35,   36,   37,   38,   39,   40,   41,   42,   43,\n",
       "         44,   45,   46,   47,   48,   49,   50,   51,   52,   53,   54,\n",
       "         55,   56,   57,   58,   59,   60,   61,   62,   63,   64,   65,\n",
       "         66,   67,   68,   69,   70,   71,   72,   73,   74,   75,   76,\n",
       "         77,   78,   79,   80,   81,   82,   83,   84,   85,   86,   87,\n",
       "         88,   89,   90,   91,   92,   93,   94,   95,   96,   97,   98,\n",
       "         99])"
      ]
     },
     "execution_count": 27,
     "metadata": {},
     "output_type": "execute_result"
    }
   ],
   "source": [
    "a"
   ]
  },
  {
   "cell_type": "code",
   "execution_count": 29,
   "metadata": {},
   "outputs": [],
   "source": [
    "c = a[4:10].copy\n"
   ]
  },
  {
   "cell_type": "code",
   "execution_count": 30,
   "metadata": {},
   "outputs": [
    {
     "data": {
      "text/plain": [
       "<function ndarray.copy>"
      ]
     },
     "execution_count": 30,
     "metadata": {},
     "output_type": "execute_result"
    }
   ],
   "source": [
    "c"
   ]
  },
  {
   "cell_type": "code",
   "execution_count": 31,
   "metadata": {},
   "outputs": [
    {
     "data": {
      "text/plain": [
       "array([   0,    1,    2, 1000,    4,    5,    6,    7,    8,    9,   10,\n",
       "         11,   12,   13,   14,   15,   16,   17,   18,   19,   20,   21,\n",
       "         22,   23,   24,   25,   26,   27,   28,   29,   30,   31,   32,\n",
       "         33,   34,   35,   36,   37,   38,   39,   40,   41,   42,   43,\n",
       "         44,   45,   46,   47,   48,   49,   50,   51,   52,   53,   54,\n",
       "         55,   56,   57,   58,   59,   60,   61,   62,   63,   64,   65,\n",
       "         66,   67,   68,   69,   70,   71,   72,   73,   74,   75,   76,\n",
       "         77,   78,   79,   80,   81,   82,   83,   84,   85,   86,   87,\n",
       "         88,   89,   90,   91,   92,   93,   94,   95,   96,   97,   98,\n",
       "         99])"
      ]
     },
     "execution_count": 31,
     "metadata": {},
     "output_type": "execute_result"
    }
   ],
   "source": [
    "a"
   ]
  },
  {
   "cell_type": "code",
   "execution_count": 32,
   "metadata": {},
   "outputs": [],
   "source": [
    "#MASKING\n"
   ]
  },
  {
   "cell_type": "code",
   "execution_count": 33,
   "metadata": {},
   "outputs": [],
   "source": [
    "import numpy as np"
   ]
  },
  {
   "cell_type": "code",
   "execution_count": 34,
   "metadata": {},
   "outputs": [],
   "source": [
    "a = np.arange(100)"
   ]
  },
  {
   "cell_type": "code",
   "execution_count": 35,
   "metadata": {},
   "outputs": [
    {
     "data": {
      "text/plain": [
       "array([ 0,  1,  2,  3,  4,  5,  6,  7,  8,  9, 10, 11, 12, 13, 14, 15, 16,\n",
       "       17, 18, 19, 20, 21, 22, 23, 24, 25, 26, 27, 28, 29, 30, 31, 32, 33,\n",
       "       34, 35, 36, 37, 38, 39, 40, 41, 42, 43, 44, 45, 46, 47, 48, 49, 50,\n",
       "       51, 52, 53, 54, 55, 56, 57, 58, 59, 60, 61, 62, 63, 64, 65, 66, 67,\n",
       "       68, 69, 70, 71, 72, 73, 74, 75, 76, 77, 78, 79, 80, 81, 82, 83, 84,\n",
       "       85, 86, 87, 88, 89, 90, 91, 92, 93, 94, 95, 96, 97, 98, 99])"
      ]
     },
     "execution_count": 35,
     "metadata": {},
     "output_type": "execute_result"
    }
   ],
   "source": [
    "a"
   ]
  },
  {
   "cell_type": "code",
   "execution_count": 36,
   "metadata": {},
   "outputs": [
    {
     "data": {
      "text/plain": [
       "array([ 0,  1,  2,  3,  4,  5,  6,  7,  8,  9, 10, 11, 12, 13, 14, 15, 16,\n",
       "       17, 18, 19, 20, 21, 22, 23, 24, 25, 26, 27, 28, 29, 30, 31, 32, 33,\n",
       "       34, 35, 36, 37, 38, 39, 40, 41, 42, 43, 44, 45, 46, 47, 48, 49])"
      ]
     },
     "execution_count": 36,
     "metadata": {},
     "output_type": "execute_result"
    }
   ],
   "source": [
    "b = a[a<50]\n",
    "b"
   ]
  },
  {
   "cell_type": "code",
   "execution_count": 37,
   "metadata": {},
   "outputs": [
    {
     "data": {
      "text/plain": [
       "array([21, 22, 23, 24, 25, 26, 27, 28, 29, 30, 31, 32, 33, 34, 35, 36, 37,\n",
       "       38, 39, 40, 41, 42, 43, 44, 45, 46, 47, 48, 49])"
      ]
     },
     "execution_count": 37,
     "metadata": {},
     "output_type": "execute_result"
    }
   ],
   "source": [
    "c = a[(a<50) & (a>20)]\n",
    "c"
   ]
  },
  {
   "cell_type": "code",
   "execution_count": 38,
   "metadata": {},
   "outputs": [],
   "source": [
    "#BROADCASTING N CONCATINATION"
   ]
  },
  {
   "cell_type": "code",
   "execution_count": null,
   "metadata": {},
   "outputs": [],
   "source": [
    "np.hstack \n",
    "np.vstack\n",
    "np.sort"
   ]
  },
  {
   "cell_type": "code",
   "execution_count": 40,
   "metadata": {},
   "outputs": [
    {
     "data": {
      "text/plain": [
       "array([[5., 6., 0.],\n",
       "       [1., 1., 5.]])"
      ]
     },
     "execution_count": 40,
     "metadata": {},
     "output_type": "execute_result"
    }
   ],
   "source": [
    "a = np.round(10*np.random.rand(2,3))\n",
    "a"
   ]
  },
  {
   "cell_type": "code",
   "execution_count": 41,
   "metadata": {},
   "outputs": [
    {
     "data": {
      "text/plain": [
       "array([[11., 12.,  6.],\n",
       "       [ 7.,  7., 11.]])"
      ]
     },
     "execution_count": 41,
     "metadata": {},
     "output_type": "execute_result"
    }
   ],
   "source": [
    "a + 6"
   ]
  },
  {
   "cell_type": "code",
   "execution_count": 42,
   "metadata": {},
   "outputs": [
    {
     "data": {
      "text/plain": [
       "array([[5., 6., 0.],\n",
       "       [2., 2., 6.]])"
      ]
     },
     "execution_count": 42,
     "metadata": {},
     "output_type": "execute_result"
    }
   ],
   "source": [
    "a+(np.arange(2).reshape(2,1))"
   ]
  },
  {
   "cell_type": "code",
   "execution_count": 43,
   "metadata": {},
   "outputs": [
    {
     "data": {
      "text/plain": [
       "array([[5., 6., 0.],\n",
       "       [1., 1., 5.]])"
      ]
     },
     "execution_count": 43,
     "metadata": {},
     "output_type": "execute_result"
    }
   ],
   "source": [
    "a"
   ]
  },
  {
   "cell_type": "code",
   "execution_count": 44,
   "metadata": {},
   "outputs": [
    {
     "data": {
      "text/plain": [
       "array([[6., 7.],\n",
       "       [7., 9.]])"
      ]
     },
     "execution_count": 44,
     "metadata": {},
     "output_type": "execute_result"
    }
   ],
   "source": [
    "b = np.round(10*np.random.rand(2,2))\n",
    "b"
   ]
  },
  {
   "cell_type": "code",
   "execution_count": 45,
   "metadata": {},
   "outputs": [
    {
     "data": {
      "text/plain": [
       "array([[5., 6., 0., 6., 7.],\n",
       "       [1., 1., 5., 7., 9.]])"
      ]
     },
     "execution_count": 45,
     "metadata": {},
     "output_type": "execute_result"
    }
   ],
   "source": [
    "c = np.hstack((a,b))\n",
    "c"
   ]
  },
  {
   "cell_type": "code",
   "execution_count": 47,
   "metadata": {},
   "outputs": [
    {
     "ename": "ValueError",
     "evalue": "all the input array dimensions for the concatenation axis must match exactly, but along dimension 1, the array at index 0 has size 3 and the array at index 1 has size 2",
     "output_type": "error",
     "traceback": [
      "\u001b[1;31m---------------------------------------------------------------------------\u001b[0m",
      "\u001b[1;31mValueError\u001b[0m                                Traceback (most recent call last)",
      "\u001b[1;32m<ipython-input-47-5c0f60eeacf8>\u001b[0m in \u001b[0;36m<module>\u001b[1;34m\u001b[0m\n\u001b[1;32m----> 1\u001b[1;33m \u001b[0md\u001b[0m \u001b[1;33m=\u001b[0m \u001b[0mnp\u001b[0m\u001b[1;33m.\u001b[0m\u001b[0mvstack\u001b[0m\u001b[1;33m(\u001b[0m\u001b[1;33m(\u001b[0m\u001b[0ma\u001b[0m\u001b[1;33m,\u001b[0m\u001b[0mb\u001b[0m\u001b[1;33m)\u001b[0m\u001b[1;33m)\u001b[0m\u001b[1;33m\u001b[0m\u001b[1;33m\u001b[0m\u001b[0m\n\u001b[0m\u001b[0;32m      2\u001b[0m \u001b[0md\u001b[0m\u001b[1;33m\u001b[0m\u001b[1;33m\u001b[0m\u001b[0m\n",
      "\u001b[1;32m<__array_function__ internals>\u001b[0m in \u001b[0;36mvstack\u001b[1;34m(*args, **kwargs)\u001b[0m\n",
      "\u001b[1;32m~\\anaconda3\\lib\\site-packages\\numpy\\core\\shape_base.py\u001b[0m in \u001b[0;36mvstack\u001b[1;34m(tup)\u001b[0m\n\u001b[0;32m    281\u001b[0m     \u001b[1;32mif\u001b[0m \u001b[1;32mnot\u001b[0m \u001b[0misinstance\u001b[0m\u001b[1;33m(\u001b[0m\u001b[0marrs\u001b[0m\u001b[1;33m,\u001b[0m \u001b[0mlist\u001b[0m\u001b[1;33m)\u001b[0m\u001b[1;33m:\u001b[0m\u001b[1;33m\u001b[0m\u001b[1;33m\u001b[0m\u001b[0m\n\u001b[0;32m    282\u001b[0m         \u001b[0marrs\u001b[0m \u001b[1;33m=\u001b[0m \u001b[1;33m[\u001b[0m\u001b[0marrs\u001b[0m\u001b[1;33m]\u001b[0m\u001b[1;33m\u001b[0m\u001b[1;33m\u001b[0m\u001b[0m\n\u001b[1;32m--> 283\u001b[1;33m     \u001b[1;32mreturn\u001b[0m \u001b[0m_nx\u001b[0m\u001b[1;33m.\u001b[0m\u001b[0mconcatenate\u001b[0m\u001b[1;33m(\u001b[0m\u001b[0marrs\u001b[0m\u001b[1;33m,\u001b[0m \u001b[1;36m0\u001b[0m\u001b[1;33m)\u001b[0m\u001b[1;33m\u001b[0m\u001b[1;33m\u001b[0m\u001b[0m\n\u001b[0m\u001b[0;32m    284\u001b[0m \u001b[1;33m\u001b[0m\u001b[0m\n\u001b[0;32m    285\u001b[0m \u001b[1;33m\u001b[0m\u001b[0m\n",
      "\u001b[1;32m<__array_function__ internals>\u001b[0m in \u001b[0;36mconcatenate\u001b[1;34m(*args, **kwargs)\u001b[0m\n",
      "\u001b[1;31mValueError\u001b[0m: all the input array dimensions for the concatenation axis must match exactly, but along dimension 1, the array at index 0 has size 3 and the array at index 1 has size 2"
     ]
    }
   ],
   "source": [
    "d = np.vstack((a,b))\n",
    "d"
   ]
  },
  {
   "cell_type": "code",
   "execution_count": 48,
   "metadata": {},
   "outputs": [
    {
     "data": {
      "text/plain": [
       "array([4, 7, 8, 6, 0, 9, 3, 2, 1, 5])"
      ]
     },
     "execution_count": 48,
     "metadata": {},
     "output_type": "execute_result"
    }
   ],
   "source": [
    "a = np.random.permutation(np.arange(10))\n",
    "a"
   ]
  },
  {
   "cell_type": "code",
   "execution_count": 49,
   "metadata": {},
   "outputs": [],
   "source": [
    "a.sort()"
   ]
  },
  {
   "cell_type": "code",
   "execution_count": 50,
   "metadata": {},
   "outputs": [
    {
     "data": {
      "text/plain": [
       "array([0, 1, 2, 3, 4, 5, 6, 7, 8, 9])"
      ]
     },
     "execution_count": 50,
     "metadata": {},
     "output_type": "execute_result"
    }
   ],
   "source": [
    "a"
   ]
  },
  {
   "cell_type": "code",
   "execution_count": 51,
   "metadata": {},
   "outputs": [
    {
     "data": {
      "text/plain": [
       "array([0, 1, 2, 3, 4, 5, 6, 7, 8, 9])"
      ]
     },
     "execution_count": 51,
     "metadata": {},
     "output_type": "execute_result"
    }
   ],
   "source": [
    "np.sort(a)"
   ]
  },
  {
   "cell_type": "code",
   "execution_count": 52,
   "metadata": {},
   "outputs": [],
   "source": [
    "a = a[::-1]"
   ]
  },
  {
   "cell_type": "code",
   "execution_count": 53,
   "metadata": {},
   "outputs": [
    {
     "data": {
      "text/plain": [
       "array([9, 8, 7, 6, 5, 4, 3, 2, 1, 0])"
      ]
     },
     "execution_count": 53,
     "metadata": {},
     "output_type": "execute_result"
    }
   ],
   "source": [
    "a"
   ]
  },
  {
   "cell_type": "code",
   "execution_count": 54,
   "metadata": {},
   "outputs": [
    {
     "data": {
      "text/plain": [
       "array(['abc', 'alkjsdh', 'hello'], dtype='<U7')"
      ]
     },
     "execution_count": 54,
     "metadata": {},
     "output_type": "execute_result"
    }
   ],
   "source": [
    "a = np.array([\"abc\",\"alkjsdh\",'hello'])\n",
    "a"
   ]
  },
  {
   "cell_type": "code",
   "execution_count": 55,
   "metadata": {},
   "outputs": [],
   "source": [
    "a.sort()"
   ]
  },
  {
   "cell_type": "code",
   "execution_count": 56,
   "metadata": {},
   "outputs": [
    {
     "data": {
      "text/plain": [
       "array(['abc', 'alkjsdh', 'hello'], dtype='<U7')"
      ]
     },
     "execution_count": 56,
     "metadata": {},
     "output_type": "execute_result"
    }
   ],
   "source": [
    "a\n"
   ]
  },
  {
   "cell_type": "code",
   "execution_count": 57,
   "metadata": {},
   "outputs": [],
   "source": [
    "#UFUNCS universal function\n",
    "byk penjelasan doang kyknya gagitu urgent\n",
    "https://www.udemy.com/course/python-mastering-data-understanding-and-data-visualization/learn/lecture/20195274#overview"
   ]
  },
  {
   "cell_type": "code",
   "execution_count": 58,
   "metadata": {},
   "outputs": [],
   "source": [
    " #IMAGE"
   ]
  },
  {
   "cell_type": "code",
   "execution_count": 59,
   "metadata": {},
   "outputs": [],
   "source": [
    "import matplotlib.pyplot as plt"
   ]
  },
  {
   "cell_type": "code",
   "execution_count": 62,
   "metadata": {},
   "outputs": [],
   "source": [
    "im = plt.imread(r'C:\\Users\\USER\\Pictures\\otw shutterstock\\IMG_3762.JPG')\n"
   ]
  },
  {
   "cell_type": "code",
   "execution_count": 63,
   "metadata": {},
   "outputs": [
    {
     "data": {
      "text/plain": [
       "array([[[159, 149, 147],\n",
       "        [158, 148, 146],\n",
       "        [158, 148, 146],\n",
       "        ...,\n",
       "        [139, 135, 134],\n",
       "        [141, 137, 136],\n",
       "        [143, 139, 138]],\n",
       "\n",
       "       [[157, 149, 146],\n",
       "        [157, 149, 146],\n",
       "        [156, 148, 145],\n",
       "        ...,\n",
       "        [142, 138, 137],\n",
       "        [142, 138, 137],\n",
       "        [143, 139, 138]],\n",
       "\n",
       "       [[158, 150, 147],\n",
       "        [159, 151, 148],\n",
       "        [158, 150, 147],\n",
       "        ...,\n",
       "        [141, 140, 138],\n",
       "        [143, 142, 140],\n",
       "        [143, 142, 140]],\n",
       "\n",
       "       ...,\n",
       "\n",
       "       [[  8,  12,  11],\n",
       "        [  6,  10,   9],\n",
       "        [  6,  10,   9],\n",
       "        ...,\n",
       "        [  5,   7,   2],\n",
       "        [  3,   8,   2],\n",
       "        [  3,   8,   2]],\n",
       "\n",
       "       [[  8,  10,   9],\n",
       "        [  7,   9,   8],\n",
       "        [  7,   9,   8],\n",
       "        ...,\n",
       "        [  4,   6,   1],\n",
       "        [  4,   6,   1],\n",
       "        [  3,   8,   2]],\n",
       "\n",
       "       [[  8,  10,   9],\n",
       "        [  7,   9,   8],\n",
       "        [  7,   9,   8],\n",
       "        ...,\n",
       "        [  4,   6,   1],\n",
       "        [  4,   6,   1],\n",
       "        [  5,   7,   2]]], dtype=uint8)"
      ]
     },
     "execution_count": 63,
     "metadata": {},
     "output_type": "execute_result"
    }
   ],
   "source": [
    "im"
   ]
  },
  {
   "cell_type": "code",
   "execution_count": 64,
   "metadata": {},
   "outputs": [
    {
     "data": {
      "text/plain": [
       "numpy.ndarray"
      ]
     },
     "execution_count": 64,
     "metadata": {},
     "output_type": "execute_result"
    }
   ],
   "source": [
    "type(im)"
   ]
  },
  {
   "cell_type": "code",
   "execution_count": 65,
   "metadata": {},
   "outputs": [
    {
     "data": {
      "text/plain": [
       "(3168, 4752, 3)"
      ]
     },
     "execution_count": 65,
     "metadata": {},
     "output_type": "execute_result"
    }
   ],
   "source": [
    "im.shape"
   ]
  },
  {
   "cell_type": "code",
   "execution_count": 66,
   "metadata": {},
   "outputs": [
    {
     "data": {
      "text/plain": [
       "<matplotlib.image.AxesImage at 0x27262eb1a60>"
      ]
     },
     "execution_count": 66,
     "metadata": {},
     "output_type": "execute_result"
    },
    {
     "data": {
      "image/png": "[encoded data removed]",
      "text/plain": [
       "<Figure size 432x288 with 1 Axes>"
      ]
     },
     "metadata": {
      "needs_background": "light"
     },
     "output_type": "display_data"
    }
   ],
   "source": [
    "plt.imshow(im)"
   ]
  },
  {
   "cell_type": "code",
   "execution_count": null,
   "metadata": {},
   "outputs": [],
   "source": [
    "https://www.udemy.com/course/python-mastering-data-understanding-and-data-visualization/learn/lecture/20195306#content"
   ]
  },
  {
   "cell_type": "code",
   "execution_count": null,
   "metadata": {},
   "outputs": [],
   "source": [
    "#K NEAREST NEIGHBOUR\n",
    "\n",
    "https://www.udemy.com/course/python-mastering-data-understanding-and-data-visualization/learn/lecture/20195314#content"
   ]
  },
  {
   "cell_type": "code",
   "execution_count": null,
   "metadata": {},
   "outputs": [],
   "source": []
  }
 ],
 "metadata": {
  "kernelspec": {
   "display_name": "Python 3",
   "language": "python",
   "name": "python3"
  },
  "language_info": {
   "codemirror_mode": {
    "name": "ipython",
    "version": 3
   },
   "file_extension": ".py",
   "mimetype": "text/x-python",
   "name": "python",
   "nbconvert_exporter": "python",
   "pygments_lexer": "ipython3",
   "version": "3.8.8"
  }
 },
 "nbformat": 4,
 "nbformat_minor": 4
}
